{
 "cells": [
  {
   "cell_type": "markdown",
   "id": "07d8f853",
   "metadata": {},
   "source": [
    "### Big Mart Sales Prediction"
   ]
  },
  {
   "cell_type": "markdown",
   "id": "e91a3398",
   "metadata": {},
   "source": [
    "#### Sales Prediction for Big Mart Outlets\n",
    "The data scientists at BigMart have collected 2013 sales data for 1559 products across 10 stores in different cities. Also, certain attributes of each product and store have been defined. The aim is to build a predictive model and predict the sales of each product at a particular outlet.\n",
    "\n",
    "- ##### Using this model, BigMart will try to understand the properties of products and outlets which play a key role in increasing sales.\n",
    "\n",
    "Please note that the data may have missing values as some stores might not report all the data due to technical glitches. Hence, it will be required to treat them accordingly.\n",
    "\n",
    "#### Data Dictionary\n",
    "We have a train (8523) and test (5681) data set, the train data set has both input and output variable(s). You need to predict the sales for the test data set."
   ]
  },
  {
   "cell_type": "code",
   "execution_count": 41,
   "id": "e0e1ab0f",
   "metadata": {},
   "outputs": [],
   "source": [
    "## Import Libraries\n",
    "\n",
    "import numpy as np\n",
    "import pandas as pd\n",
    "import seaborn as sns\n",
    "import matplotlib.pyplot as plt"
   ]
  },
  {
   "cell_type": "code",
   "execution_count": 42,
   "id": "65aa2057",
   "metadata": {},
   "outputs": [
    {
     "data": {
      "text/html": [
       "<div>\n",
       "<style scoped>\n",
       "    .dataframe tbody tr th:only-of-type {\n",
       "        vertical-align: middle;\n",
       "    }\n",
       "\n",
       "    .dataframe tbody tr th {\n",
       "        vertical-align: top;\n",
       "    }\n",
       "\n",
       "    .dataframe thead th {\n",
       "        text-align: right;\n",
       "    }\n",
       "</style>\n",
       "<table border=\"1\" class=\"dataframe\">\n",
       "  <thead>\n",
       "    <tr style=\"text-align: right;\">\n",
       "      <th></th>\n",
       "      <th>Item_Identifier</th>\n",
       "      <th>Item_Weight</th>\n",
       "      <th>Item_Fat_Content</th>\n",
       "      <th>Item_Visibility</th>\n",
       "      <th>Item_Type</th>\n",
       "      <th>Item_MRP</th>\n",
       "      <th>Outlet_Identifier</th>\n",
       "      <th>Outlet_Establishment_Year</th>\n",
       "      <th>Outlet_Size</th>\n",
       "      <th>Outlet_Location_Type</th>\n",
       "      <th>Outlet_Type</th>\n",
       "      <th>Item_Outlet_Sales</th>\n",
       "    </tr>\n",
       "  </thead>\n",
       "  <tbody>\n",
       "    <tr>\n",
       "      <th>0</th>\n",
       "      <td>FDA15</td>\n",
       "      <td>9.30</td>\n",
       "      <td>Low Fat</td>\n",
       "      <td>0.016047</td>\n",
       "      <td>Dairy</td>\n",
       "      <td>249.8092</td>\n",
       "      <td>OUT049</td>\n",
       "      <td>1999</td>\n",
       "      <td>Medium</td>\n",
       "      <td>Tier 1</td>\n",
       "      <td>Supermarket Type1</td>\n",
       "      <td>3735.1380</td>\n",
       "    </tr>\n",
       "    <tr>\n",
       "      <th>1</th>\n",
       "      <td>DRC01</td>\n",
       "      <td>5.92</td>\n",
       "      <td>Regular</td>\n",
       "      <td>0.019278</td>\n",
       "      <td>Soft Drinks</td>\n",
       "      <td>48.2692</td>\n",
       "      <td>OUT018</td>\n",
       "      <td>2009</td>\n",
       "      <td>Medium</td>\n",
       "      <td>Tier 3</td>\n",
       "      <td>Supermarket Type2</td>\n",
       "      <td>443.4228</td>\n",
       "    </tr>\n",
       "    <tr>\n",
       "      <th>2</th>\n",
       "      <td>FDN15</td>\n",
       "      <td>17.50</td>\n",
       "      <td>Low Fat</td>\n",
       "      <td>0.016760</td>\n",
       "      <td>Meat</td>\n",
       "      <td>141.6180</td>\n",
       "      <td>OUT049</td>\n",
       "      <td>1999</td>\n",
       "      <td>Medium</td>\n",
       "      <td>Tier 1</td>\n",
       "      <td>Supermarket Type1</td>\n",
       "      <td>2097.2700</td>\n",
       "    </tr>\n",
       "    <tr>\n",
       "      <th>3</th>\n",
       "      <td>FDX07</td>\n",
       "      <td>19.20</td>\n",
       "      <td>Regular</td>\n",
       "      <td>0.000000</td>\n",
       "      <td>Fruits and Vegetables</td>\n",
       "      <td>182.0950</td>\n",
       "      <td>OUT010</td>\n",
       "      <td>1998</td>\n",
       "      <td>NaN</td>\n",
       "      <td>Tier 3</td>\n",
       "      <td>Grocery Store</td>\n",
       "      <td>732.3800</td>\n",
       "    </tr>\n",
       "    <tr>\n",
       "      <th>4</th>\n",
       "      <td>NCD19</td>\n",
       "      <td>8.93</td>\n",
       "      <td>Low Fat</td>\n",
       "      <td>0.000000</td>\n",
       "      <td>Household</td>\n",
       "      <td>53.8614</td>\n",
       "      <td>OUT013</td>\n",
       "      <td>1987</td>\n",
       "      <td>High</td>\n",
       "      <td>Tier 3</td>\n",
       "      <td>Supermarket Type1</td>\n",
       "      <td>994.7052</td>\n",
       "    </tr>\n",
       "  </tbody>\n",
       "</table>\n",
       "</div>"
      ],
      "text/plain": [
       "  Item_Identifier  Item_Weight Item_Fat_Content  Item_Visibility  \\\n",
       "0           FDA15         9.30          Low Fat         0.016047   \n",
       "1           DRC01         5.92          Regular         0.019278   \n",
       "2           FDN15        17.50          Low Fat         0.016760   \n",
       "3           FDX07        19.20          Regular         0.000000   \n",
       "4           NCD19         8.93          Low Fat         0.000000   \n",
       "\n",
       "               Item_Type  Item_MRP Outlet_Identifier  \\\n",
       "0                  Dairy  249.8092            OUT049   \n",
       "1            Soft Drinks   48.2692            OUT018   \n",
       "2                   Meat  141.6180            OUT049   \n",
       "3  Fruits and Vegetables  182.0950            OUT010   \n",
       "4              Household   53.8614            OUT013   \n",
       "\n",
       "   Outlet_Establishment_Year Outlet_Size Outlet_Location_Type  \\\n",
       "0                       1999      Medium               Tier 1   \n",
       "1                       2009      Medium               Tier 3   \n",
       "2                       1999      Medium               Tier 1   \n",
       "3                       1998         NaN               Tier 3   \n",
       "4                       1987        High               Tier 3   \n",
       "\n",
       "         Outlet_Type  Item_Outlet_Sales  \n",
       "0  Supermarket Type1          3735.1380  \n",
       "1  Supermarket Type2           443.4228  \n",
       "2  Supermarket Type1          2097.2700  \n",
       "3      Grocery Store           732.3800  \n",
       "4  Supermarket Type1           994.7052  "
      ]
     },
     "execution_count": 42,
     "metadata": {},
     "output_type": "execute_result"
    }
   ],
   "source": [
    "df = pd.read_csv(\"train.csv\")\n",
    "df.head()"
   ]
  },
  {
   "cell_type": "code",
   "execution_count": 43,
   "id": "e049c5a8",
   "metadata": {},
   "outputs": [
    {
     "data": {
      "text/plain": [
       "(8523, 12)"
      ]
     },
     "execution_count": 43,
     "metadata": {},
     "output_type": "execute_result"
    }
   ],
   "source": [
    "df.shape"
   ]
  },
  {
   "cell_type": "code",
   "execution_count": 44,
   "id": "22b1d53f",
   "metadata": {},
   "outputs": [
    {
     "name": "stdout",
     "output_type": "stream",
     "text": [
      "<class 'pandas.core.frame.DataFrame'>\n",
      "RangeIndex: 8523 entries, 0 to 8522\n",
      "Data columns (total 12 columns):\n",
      " #   Column                     Non-Null Count  Dtype  \n",
      "---  ------                     --------------  -----  \n",
      " 0   Item_Identifier            8523 non-null   object \n",
      " 1   Item_Weight                7060 non-null   float64\n",
      " 2   Item_Fat_Content           8523 non-null   object \n",
      " 3   Item_Visibility            8523 non-null   float64\n",
      " 4   Item_Type                  8523 non-null   object \n",
      " 5   Item_MRP                   8523 non-null   float64\n",
      " 6   Outlet_Identifier          8523 non-null   object \n",
      " 7   Outlet_Establishment_Year  8523 non-null   int64  \n",
      " 8   Outlet_Size                6113 non-null   object \n",
      " 9   Outlet_Location_Type       8523 non-null   object \n",
      " 10  Outlet_Type                8523 non-null   object \n",
      " 11  Item_Outlet_Sales          8523 non-null   float64\n",
      "dtypes: float64(4), int64(1), object(7)\n",
      "memory usage: 799.2+ KB\n"
     ]
    }
   ],
   "source": [
    "df.info()"
   ]
  },
  {
   "cell_type": "code",
   "execution_count": 45,
   "id": "b531d019",
   "metadata": {},
   "outputs": [
    {
     "data": {
      "text/html": [
       "<div>\n",
       "<style scoped>\n",
       "    .dataframe tbody tr th:only-of-type {\n",
       "        vertical-align: middle;\n",
       "    }\n",
       "\n",
       "    .dataframe tbody tr th {\n",
       "        vertical-align: top;\n",
       "    }\n",
       "\n",
       "    .dataframe thead th {\n",
       "        text-align: right;\n",
       "    }\n",
       "</style>\n",
       "<table border=\"1\" class=\"dataframe\">\n",
       "  <thead>\n",
       "    <tr style=\"text-align: right;\">\n",
       "      <th></th>\n",
       "      <th>Item_Weight</th>\n",
       "      <th>Item_Visibility</th>\n",
       "      <th>Item_MRP</th>\n",
       "      <th>Outlet_Establishment_Year</th>\n",
       "      <th>Item_Outlet_Sales</th>\n",
       "    </tr>\n",
       "  </thead>\n",
       "  <tbody>\n",
       "    <tr>\n",
       "      <th>count</th>\n",
       "      <td>7060.000000</td>\n",
       "      <td>8523.000000</td>\n",
       "      <td>8523.000000</td>\n",
       "      <td>8523.000000</td>\n",
       "      <td>8523.000000</td>\n",
       "    </tr>\n",
       "    <tr>\n",
       "      <th>mean</th>\n",
       "      <td>12.857645</td>\n",
       "      <td>0.066132</td>\n",
       "      <td>140.992782</td>\n",
       "      <td>1997.831867</td>\n",
       "      <td>2181.288914</td>\n",
       "    </tr>\n",
       "    <tr>\n",
       "      <th>std</th>\n",
       "      <td>4.643456</td>\n",
       "      <td>0.051598</td>\n",
       "      <td>62.275067</td>\n",
       "      <td>8.371760</td>\n",
       "      <td>1706.499616</td>\n",
       "    </tr>\n",
       "    <tr>\n",
       "      <th>min</th>\n",
       "      <td>4.555000</td>\n",
       "      <td>0.000000</td>\n",
       "      <td>31.290000</td>\n",
       "      <td>1985.000000</td>\n",
       "      <td>33.290000</td>\n",
       "    </tr>\n",
       "    <tr>\n",
       "      <th>25%</th>\n",
       "      <td>8.773750</td>\n",
       "      <td>0.026989</td>\n",
       "      <td>93.826500</td>\n",
       "      <td>1987.000000</td>\n",
       "      <td>834.247400</td>\n",
       "    </tr>\n",
       "    <tr>\n",
       "      <th>50%</th>\n",
       "      <td>12.600000</td>\n",
       "      <td>0.053931</td>\n",
       "      <td>143.012800</td>\n",
       "      <td>1999.000000</td>\n",
       "      <td>1794.331000</td>\n",
       "    </tr>\n",
       "    <tr>\n",
       "      <th>75%</th>\n",
       "      <td>16.850000</td>\n",
       "      <td>0.094585</td>\n",
       "      <td>185.643700</td>\n",
       "      <td>2004.000000</td>\n",
       "      <td>3101.296400</td>\n",
       "    </tr>\n",
       "    <tr>\n",
       "      <th>max</th>\n",
       "      <td>21.350000</td>\n",
       "      <td>0.328391</td>\n",
       "      <td>266.888400</td>\n",
       "      <td>2009.000000</td>\n",
       "      <td>13086.964800</td>\n",
       "    </tr>\n",
       "  </tbody>\n",
       "</table>\n",
       "</div>"
      ],
      "text/plain": [
       "       Item_Weight  Item_Visibility     Item_MRP  Outlet_Establishment_Year  \\\n",
       "count  7060.000000      8523.000000  8523.000000                8523.000000   \n",
       "mean     12.857645         0.066132   140.992782                1997.831867   \n",
       "std       4.643456         0.051598    62.275067                   8.371760   \n",
       "min       4.555000         0.000000    31.290000                1985.000000   \n",
       "25%       8.773750         0.026989    93.826500                1987.000000   \n",
       "50%      12.600000         0.053931   143.012800                1999.000000   \n",
       "75%      16.850000         0.094585   185.643700                2004.000000   \n",
       "max      21.350000         0.328391   266.888400                2009.000000   \n",
       "\n",
       "       Item_Outlet_Sales  \n",
       "count        8523.000000  \n",
       "mean         2181.288914  \n",
       "std          1706.499616  \n",
       "min            33.290000  \n",
       "25%           834.247400  \n",
       "50%          1794.331000  \n",
       "75%          3101.296400  \n",
       "max         13086.964800  "
      ]
     },
     "execution_count": 45,
     "metadata": {},
     "output_type": "execute_result"
    }
   ],
   "source": [
    "df.describe()"
   ]
  },
  {
   "cell_type": "code",
   "execution_count": 46,
   "id": "d6f64d18",
   "metadata": {},
   "outputs": [
    {
     "data": {
      "text/plain": [
       "Item_Identifier                 0\n",
       "Item_Weight                  1463\n",
       "Item_Fat_Content                0\n",
       "Item_Visibility                 0\n",
       "Item_Type                       0\n",
       "Item_MRP                        0\n",
       "Outlet_Identifier               0\n",
       "Outlet_Establishment_Year       0\n",
       "Outlet_Size                  2410\n",
       "Outlet_Location_Type            0\n",
       "Outlet_Type                     0\n",
       "Item_Outlet_Sales               0\n",
       "dtype: int64"
      ]
     },
     "execution_count": 46,
     "metadata": {},
     "output_type": "execute_result"
    }
   ],
   "source": [
    "df.isna().sum()"
   ]
  },
  {
   "cell_type": "code",
   "execution_count": 47,
   "id": "3529ef0a",
   "metadata": {},
   "outputs": [
    {
     "data": {
      "image/png": "[encoded data removed]",
      "text/plain": [
       "<Figure size 640x480 with 1 Axes>"
      ]
     },
     "metadata": {},
     "output_type": "display_data"
    }
   ],
   "source": [
    "plt.hist(df['Item_Weight'], bins =10, linewidth=1, edgecolor=\"white\")\n",
    "plt.show()"
   ]
  },
  {
   "cell_type": "markdown",
   "id": "c651f972",
   "metadata": {},
   "source": [
    "Since, there are no Outliers substituting Mean value for all the NUll values"
   ]
  },
  {
   "cell_type": "code",
   "execution_count": 48,
   "id": "132af3ef",
   "metadata": {},
   "outputs": [
    {
     "data": {
      "text/plain": [
       "Item_Identifier                 0\n",
       "Item_Weight                     0\n",
       "Item_Fat_Content                0\n",
       "Item_Visibility                 0\n",
       "Item_Type                       0\n",
       "Item_MRP                        0\n",
       "Outlet_Identifier               0\n",
       "Outlet_Establishment_Year       0\n",
       "Outlet_Size                  2410\n",
       "Outlet_Location_Type            0\n",
       "Outlet_Type                     0\n",
       "Item_Outlet_Sales               0\n",
       "dtype: int64"
      ]
     },
     "execution_count": 48,
     "metadata": {},
     "output_type": "execute_result"
    }
   ],
   "source": [
    "df['Item_Weight']= df['Item_Weight'].fillna(df['Item_Weight'].mean())\n",
    "\n",
    "df.isna().sum()"
   ]
  },
  {
   "cell_type": "markdown",
   "id": "13644d3a",
   "metadata": {},
   "source": [
    "For Outlet Size let check the pattern in data"
   ]
  },
  {
   "cell_type": "code",
   "execution_count": 49,
   "id": "3daa6d8e",
   "metadata": {},
   "outputs": [
    {
     "data": {
      "text/plain": [
       "Outlet_Size\n",
       "High       932\n",
       "Medium    2793\n",
       "Small     2388\n",
       "Name: Outlet_Size, dtype: int64"
      ]
     },
     "execution_count": 49,
     "metadata": {},
     "output_type": "execute_result"
    }
   ],
   "source": [
    "df.groupby(['Outlet_Size'])['Outlet_Size'].count()"
   ]
  },
  {
   "cell_type": "markdown",
   "id": "3aec4543",
   "metadata": {},
   "source": [
    "- Replacing Null values with Mode value which is \"Medium"
   ]
  },
  {
   "cell_type": "code",
   "execution_count": 50,
   "id": "41ce500a",
   "metadata": {},
   "outputs": [
    {
     "data": {
      "text/plain": [
       "Item_Identifier              0\n",
       "Item_Weight                  0\n",
       "Item_Fat_Content             0\n",
       "Item_Visibility              0\n",
       "Item_Type                    0\n",
       "Item_MRP                     0\n",
       "Outlet_Identifier            0\n",
       "Outlet_Establishment_Year    0\n",
       "Outlet_Size                  0\n",
       "Outlet_Location_Type         0\n",
       "Outlet_Type                  0\n",
       "Item_Outlet_Sales            0\n",
       "dtype: int64"
      ]
     },
     "execution_count": 50,
     "metadata": {},
     "output_type": "execute_result"
    }
   ],
   "source": [
    "\n",
    "df['Outlet_Size']= df['Outlet_Size'].fillna(\"Medium\")\n",
    "\n",
    "df.isna().sum()"
   ]
  },
  {
   "cell_type": "markdown",
   "id": "053067b4",
   "metadata": {},
   "source": [
    "## 2. Exploratory Data Analysis & Outliers Cleanup"
   ]
  },
  {
   "cell_type": "code",
   "execution_count": null,
   "id": "6a25910d",
   "metadata": {},
   "outputs": [],
   "source": []
  },
  {
   "cell_type": "code",
   "execution_count": 51,
   "id": "ab4312eb",
   "metadata": {},
   "outputs": [
    {
     "data": {
      "image/png": "[encoded data removed]",
      "text/plain": [
       "<Figure size 2000x1600 with 4 Axes>"
      ]
     },
     "metadata": {},
     "output_type": "display_data"
    }
   ],
   "source": [
    "plt.figure(figsize=(20,16))\n",
    "\n",
    "plt.subplot(2,2,1)\n",
    "plt.title(\"Item Weight\")\n",
    "sns.histplot(df['Item_Weight'], color='pink')\n",
    "\n",
    "plt.subplot(2,2,2)\n",
    "plt.title(\"Item Visibility\")\n",
    "sns.histplot(df['Item_Visibility'], color='orange')\n",
    "\n",
    "plt.subplot(2,2,3)\n",
    "plt.title(\"Item MRP\")\n",
    "sns.histplot(df['Item_MRP'], color='green')\n",
    "\n",
    "plt.subplot(2,2,4)\n",
    "plt.title(\"Item Sales\")\n",
    "sns.histplot(df['Item_Outlet_Sales'], color='teal')\n",
    "\n",
    "plt.show()"
   ]
  },
  {
   "cell_type": "markdown",
   "id": "35af849c",
   "metadata": {},
   "source": [
    "#### Checking the Unique Values in Categorical columns"
   ]
  },
  {
   "cell_type": "markdown",
   "id": "0913aa7d",
   "metadata": {},
   "source": [
    "#### Feature Engineering of Numeric columns"
   ]
  },
  {
   "cell_type": "code",
   "execution_count": 52,
   "id": "8fcb9611",
   "metadata": {},
   "outputs": [],
   "source": [
    "def remove_outliers(col):\n",
    "    q1 = df[col].quantile(0.25)\n",
    "    q3 = df[col].quantile(0.75)\n",
    "    \n",
    "    iqr = q3- q1\n",
    "    \n",
    "    upper_limit = q3 + 1.5*iqr\n",
    "    \n",
    "    count_outliers = df[df[col] > upper_limit].shape[0]\n",
    "\n",
    "    print(f'{count_outliers} outliers out of {df.shape[0]}. i.e; {count_outliers/df.shape[0]*100:.2f}% of outliers.')\n",
    "    \n",
    "    return df[df[col] < upper_limit]"
   ]
  },
  {
   "cell_type": "code",
   "execution_count": 53,
   "id": "e9194056",
   "metadata": {},
   "outputs": [
    {
     "name": "stdout",
     "output_type": "stream",
     "text": [
      "144 outliers out of 8523. i.e; 1.69% of outliers.\n"
     ]
    }
   ],
   "source": [
    "df = remove_outliers('Item_Visibility')"
   ]
  },
  {
   "cell_type": "code",
   "execution_count": 54,
   "id": "08a2bc4a",
   "metadata": {},
   "outputs": [
    {
     "name": "stdout",
     "output_type": "stream",
     "text": [
      "186 outliers out of 8379. i.e; 2.22% of outliers.\n"
     ]
    }
   ],
   "source": [
    "df = remove_outliers('Item_Outlet_Sales')\n"
   ]
  },
  {
   "cell_type": "code",
   "execution_count": 55,
   "id": "d1e423a2",
   "metadata": {},
   "outputs": [
    {
     "data": {
      "image/png": "[encoded data removed]",
      "text/plain": [
       "<Figure size 2000x1600 with 4 Axes>"
      ]
     },
     "metadata": {},
     "output_type": "display_data"
    }
   ],
   "source": [
    "plt.figure(figsize=(20,16))\n",
    "\n",
    "plt.subplot(2,2,1)\n",
    "plt.title(\"Item Weight\")\n",
    "sns.histplot(df['Item_Weight'], color='pink')\n",
    "\n",
    "plt.subplot(2,2,2)\n",
    "plt.title(\"Item Visibility\")\n",
    "sns.histplot(df['Item_Visibility'], color='orange')\n",
    "\n",
    "plt.subplot(2,2,3)\n",
    "plt.title(\"Item MRP\")\n",
    "sns.histplot(df['Item_MRP'], color='green')\n",
    "\n",
    "plt.subplot(2,2,4)\n",
    "plt.title(\"Item Sales\")\n",
    "sns.histplot(df['Item_Outlet_Sales'], color='teal')\n",
    "\n",
    "plt.show()"
   ]
  },
  {
   "cell_type": "markdown",
   "id": "4ac6f104",
   "metadata": {},
   "source": [
    "#### We can observe that all the Outliers have been removed now"
   ]
  },
  {
   "cell_type": "markdown",
   "id": "7f6b2f78",
   "metadata": {},
   "source": [
    "Checking the Establishment Year Column"
   ]
  },
  {
   "cell_type": "code",
   "execution_count": 56,
   "id": "d5b727ff",
   "metadata": {},
   "outputs": [
    {
     "data": {
      "text/plain": [
       "Outlet_Establishment_Year\n",
       "1985    1283\n",
       "1987     917\n",
       "1997     920\n",
       "1998     488\n",
       "1999     919\n",
       "2002     920\n",
       "2004     914\n",
       "2007     907\n",
       "2009     925\n",
       "Name: Outlet_Establishment_Year, dtype: int64"
      ]
     },
     "execution_count": 56,
     "metadata": {},
     "output_type": "execute_result"
    }
   ],
   "source": [
    "df.groupby(['Outlet_Establishment_Year'])['Outlet_Establishment_Year'].count()"
   ]
  },
  {
   "cell_type": "markdown",
   "id": "9f12a5ea",
   "metadata": {},
   "source": [
    "- We can convert this to Years_from_establishment"
   ]
  },
  {
   "cell_type": "code",
   "execution_count": 57,
   "id": "5a19e5c2",
   "metadata": {},
   "outputs": [
    {
     "data": {
      "text/plain": [
       "years_from_establishment\n",
       "14     925\n",
       "16     907\n",
       "19     914\n",
       "21     920\n",
       "24     919\n",
       "25     488\n",
       "26     920\n",
       "36     917\n",
       "38    1283\n",
       "Name: years_from_establishment, dtype: int64"
      ]
     },
     "execution_count": 57,
     "metadata": {},
     "output_type": "execute_result"
    }
   ],
   "source": [
    "df['years_from_establishment'] = 2023 - df['Outlet_Establishment_Year']\n",
    "\n",
    "df.groupby(['years_from_establishment'])['years_from_establishment'].count()"
   ]
  },
  {
   "cell_type": "code",
   "execution_count": 58,
   "id": "136ba88d",
   "metadata": {},
   "outputs": [
    {
     "name": "stdout",
     "output_type": "stream",
     "text": [
      "<class 'pandas.core.frame.DataFrame'>\n",
      "Index: 8193 entries, 0 to 8522\n",
      "Data columns (total 12 columns):\n",
      " #   Column                    Non-Null Count  Dtype  \n",
      "---  ------                    --------------  -----  \n",
      " 0   Item_Identifier           8193 non-null   object \n",
      " 1   Item_Weight               8193 non-null   float64\n",
      " 2   Item_Fat_Content          8193 non-null   object \n",
      " 3   Item_Visibility           8193 non-null   float64\n",
      " 4   Item_Type                 8193 non-null   object \n",
      " 5   Item_MRP                  8193 non-null   float64\n",
      " 6   Outlet_Identifier         8193 non-null   object \n",
      " 7   Outlet_Size               8193 non-null   object \n",
      " 8   Outlet_Location_Type      8193 non-null   object \n",
      " 9   Outlet_Type               8193 non-null   object \n",
      " 10  Item_Outlet_Sales         8193 non-null   float64\n",
      " 11  years_from_establishment  8193 non-null   int64  \n",
      "dtypes: float64(4), int64(1), object(7)\n",
      "memory usage: 832.1+ KB\n"
     ]
    }
   ],
   "source": [
    "## Drop Outlet establishment column, as it is a duplicate\n",
    "\n",
    "df.drop('Outlet_Establishment_Year', axis=1, inplace=True)\n",
    "df.info()"
   ]
  },
  {
   "cell_type": "markdown",
   "id": "339c2d33",
   "metadata": {},
   "source": [
    "#### Checking the Categorical Columns"
   ]
  },
  {
   "cell_type": "code",
   "execution_count": 59,
   "id": "cef3a974",
   "metadata": {},
   "outputs": [
    {
     "data": {
      "text/plain": [
       "Index(['Item_Identifier', 'Item_Fat_Content', 'Item_Type', 'Outlet_Identifier',\n",
       "       'Outlet_Size', 'Outlet_Location_Type', 'Outlet_Type'],\n",
       "      dtype='object')"
      ]
     },
     "execution_count": 59,
     "metadata": {},
     "output_type": "execute_result"
    }
   ],
   "source": [
    "cat_cols = df.select_dtypes('object').columns\n",
    "cat_cols"
   ]
  },
  {
   "cell_type": "code",
   "execution_count": 60,
   "id": "3c0a658f",
   "metadata": {},
   "outputs": [
    {
     "data": {
      "image/png": "[encoded data removed]",
      "text/plain": [
       "<Figure size 2500x3500 with 6 Axes>"
      ]
     },
     "metadata": {},
     "output_type": "display_data"
    }
   ],
   "source": [
    "plt.figure(figsize=(25,35))\n",
    "\n",
    "plt.subplot(6,1,1)\n",
    "plt.title(\"Item_Fat_Content\")\n",
    "sns.histplot(df['Item_Fat_Content'], color='orange')\n",
    "\n",
    "plt.subplot(6,1,2)\n",
    "plt.title(\"Item_Type\")\n",
    "sns.histplot(df['Item_Type'], color='green')\n",
    "\n",
    "plt.subplot(6,1,3)\n",
    "plt.title(\"Outlet_Identifier\")\n",
    "sns.histplot(df['Outlet_Identifier'], color='teal')\n",
    "\n",
    "plt.subplot(6,1,4)\n",
    "plt.title(\"Outlet_Size\")\n",
    "sns.histplot(df['Outlet_Size'], color='pink')\n",
    "\n",
    "plt.subplot(6,1,5)\n",
    "plt.title(\"Outlet_Location_Type\")\n",
    "sns.histplot(df['Outlet_Location_Type'], color='brown')\n",
    "\n",
    "plt.subplot(6,1,6)\n",
    "plt.title(\"Outlet_Type\")\n",
    "sns.histplot(df['Outlet_Type'], color='yellow')\n",
    "\n",
    "plt.show()"
   ]
  },
  {
   "cell_type": "markdown",
   "id": "dcfe27e5",
   "metadata": {},
   "source": [
    "Under Item Fat Content Column, \n",
    "- Low Fat has been given as low fat, Low Fat & LF - it needs to be corrected\n",
    "- Regular has been entered as reg & regular - it needs to be corrected"
   ]
  },
  {
   "cell_type": "code",
   "execution_count": 61,
   "id": "650c0bc9",
   "metadata": {},
   "outputs": [
    {
     "data": {
      "text/plain": [
       "Item_Fat_Content\n",
       "Low Fat    5309\n",
       "Regular    2884\n",
       "Name: Item_Fat_Content, dtype: int64"
      ]
     },
     "execution_count": 61,
     "metadata": {},
     "output_type": "execute_result"
    }
   ],
   "source": [
    "df['Item_Fat_Content'] = df['Item_Fat_Content'].replace(['LF', 'low fat'], 'Low Fat')\n",
    "\n",
    "df['Item_Fat_Content'] = df['Item_Fat_Content'].replace(['reg'], 'Regular')\n",
    "\n",
    "df.groupby(['Item_Fat_Content'])['Item_Fat_Content'].count()"
   ]
  },
  {
   "cell_type": "markdown",
   "id": "61789b7c",
   "metadata": {},
   "source": [
    "This can be further simpified to Low_fat_content \n",
    "- yes - 1 and \n",
    "- no - 0"
   ]
  },
  {
   "cell_type": "code",
   "execution_count": 62,
   "id": "194b3ebe",
   "metadata": {},
   "outputs": [
    {
     "data": {
      "text/plain": [
       "Item_Fat_Content\n",
       "0    2884\n",
       "1    5309\n",
       "Name: Item_Fat_Content, dtype: int64"
      ]
     },
     "execution_count": 62,
     "metadata": {},
     "output_type": "execute_result"
    }
   ],
   "source": [
    "df[\"Item_Fat_Content\"] = df[\"Item_Fat_Content\"].replace(['Low Fat'],1)\n",
    "df[\"Item_Fat_Content\"] = df[\"Item_Fat_Content\"].replace(['Regular'],0)\n",
    "\n",
    "df.groupby(['Item_Fat_Content'])['Item_Fat_Content'].count()"
   ]
  },
  {
   "cell_type": "code",
   "execution_count": 63,
   "id": "1519d21b",
   "metadata": {},
   "outputs": [],
   "source": [
    "df['Low_Fat_Content'] = df['Item_Fat_Content']"
   ]
  },
  {
   "cell_type": "code",
   "execution_count": 64,
   "id": "8292c985",
   "metadata": {},
   "outputs": [],
   "source": [
    "df.drop('Item_Fat_Content', axis=1, inplace=True)"
   ]
  },
  {
   "cell_type": "markdown",
   "id": "5e7afa85",
   "metadata": {},
   "source": [
    "Outlet Size column can be simplified "
   ]
  },
  {
   "cell_type": "code",
   "execution_count": 65,
   "id": "f2e6d226",
   "metadata": {},
   "outputs": [],
   "source": [
    "df['Outlet_Size'] = df['Outlet_Size'].map({'Small': 1,'Medium': 2,'High': 3}).astype(int)\n",
    "\n",
    "df['Outlet_Location_Type'] = df['Outlet_Location_Type'].map({'Tier 1': 1,'Tier 2': 2,'Tier 3': 3}).astype(int)\n",
    "\n",
    "df['Outlet_Type'] = df['Outlet_Type'].map({'Grocery Store': 0,'Supermarket Type1': 1,'Supermarket Type2': 2,'Supermarket Type3': 3}).astype(int)\n"
   ]
  },
  {
   "cell_type": "code",
   "execution_count": 66,
   "id": "9dd27014",
   "metadata": {},
   "outputs": [
    {
     "data": {
      "text/html": [
       "<div>\n",
       "<style scoped>\n",
       "    .dataframe tbody tr th:only-of-type {\n",
       "        vertical-align: middle;\n",
       "    }\n",
       "\n",
       "    .dataframe tbody tr th {\n",
       "        vertical-align: top;\n",
       "    }\n",
       "\n",
       "    .dataframe thead th {\n",
       "        text-align: right;\n",
       "    }\n",
       "</style>\n",
       "<table border=\"1\" class=\"dataframe\">\n",
       "  <thead>\n",
       "    <tr style=\"text-align: right;\">\n",
       "      <th></th>\n",
       "      <th>Item_Identifier</th>\n",
       "      <th>Item_Weight</th>\n",
       "      <th>Item_Visibility</th>\n",
       "      <th>Item_Type</th>\n",
       "      <th>Item_MRP</th>\n",
       "      <th>Outlet_Identifier</th>\n",
       "      <th>Outlet_Size</th>\n",
       "      <th>Outlet_Location_Type</th>\n",
       "      <th>Outlet_Type</th>\n",
       "      <th>Item_Outlet_Sales</th>\n",
       "      <th>years_from_establishment</th>\n",
       "      <th>Low_Fat_Content</th>\n",
       "    </tr>\n",
       "  </thead>\n",
       "  <tbody>\n",
       "    <tr>\n",
       "      <th>0</th>\n",
       "      <td>FDA15</td>\n",
       "      <td>9.300000</td>\n",
       "      <td>0.016047</td>\n",
       "      <td>Dairy</td>\n",
       "      <td>249.8092</td>\n",
       "      <td>OUT049</td>\n",
       "      <td>2</td>\n",
       "      <td>1</td>\n",
       "      <td>1</td>\n",
       "      <td>3735.1380</td>\n",
       "      <td>24</td>\n",
       "      <td>1</td>\n",
       "    </tr>\n",
       "    <tr>\n",
       "      <th>1</th>\n",
       "      <td>DRC01</td>\n",
       "      <td>5.920000</td>\n",
       "      <td>0.019278</td>\n",
       "      <td>Soft Drinks</td>\n",
       "      <td>48.2692</td>\n",
       "      <td>OUT018</td>\n",
       "      <td>2</td>\n",
       "      <td>3</td>\n",
       "      <td>2</td>\n",
       "      <td>443.4228</td>\n",
       "      <td>14</td>\n",
       "      <td>0</td>\n",
       "    </tr>\n",
       "    <tr>\n",
       "      <th>2</th>\n",
       "      <td>FDN15</td>\n",
       "      <td>17.500000</td>\n",
       "      <td>0.016760</td>\n",
       "      <td>Meat</td>\n",
       "      <td>141.6180</td>\n",
       "      <td>OUT049</td>\n",
       "      <td>2</td>\n",
       "      <td>1</td>\n",
       "      <td>1</td>\n",
       "      <td>2097.2700</td>\n",
       "      <td>24</td>\n",
       "      <td>1</td>\n",
       "    </tr>\n",
       "    <tr>\n",
       "      <th>3</th>\n",
       "      <td>FDX07</td>\n",
       "      <td>19.200000</td>\n",
       "      <td>0.000000</td>\n",
       "      <td>Fruits and Vegetables</td>\n",
       "      <td>182.0950</td>\n",
       "      <td>OUT010</td>\n",
       "      <td>2</td>\n",
       "      <td>3</td>\n",
       "      <td>0</td>\n",
       "      <td>732.3800</td>\n",
       "      <td>25</td>\n",
       "      <td>0</td>\n",
       "    </tr>\n",
       "    <tr>\n",
       "      <th>4</th>\n",
       "      <td>NCD19</td>\n",
       "      <td>8.930000</td>\n",
       "      <td>0.000000</td>\n",
       "      <td>Household</td>\n",
       "      <td>53.8614</td>\n",
       "      <td>OUT013</td>\n",
       "      <td>3</td>\n",
       "      <td>3</td>\n",
       "      <td>1</td>\n",
       "      <td>994.7052</td>\n",
       "      <td>36</td>\n",
       "      <td>1</td>\n",
       "    </tr>\n",
       "    <tr>\n",
       "      <th>5</th>\n",
       "      <td>FDP36</td>\n",
       "      <td>10.395000</td>\n",
       "      <td>0.000000</td>\n",
       "      <td>Baking Goods</td>\n",
       "      <td>51.4008</td>\n",
       "      <td>OUT018</td>\n",
       "      <td>2</td>\n",
       "      <td>3</td>\n",
       "      <td>2</td>\n",
       "      <td>556.6088</td>\n",
       "      <td>14</td>\n",
       "      <td>0</td>\n",
       "    </tr>\n",
       "    <tr>\n",
       "      <th>6</th>\n",
       "      <td>FDO10</td>\n",
       "      <td>13.650000</td>\n",
       "      <td>0.012741</td>\n",
       "      <td>Snack Foods</td>\n",
       "      <td>57.6588</td>\n",
       "      <td>OUT013</td>\n",
       "      <td>3</td>\n",
       "      <td>3</td>\n",
       "      <td>1</td>\n",
       "      <td>343.5528</td>\n",
       "      <td>36</td>\n",
       "      <td>0</td>\n",
       "    </tr>\n",
       "    <tr>\n",
       "      <th>7</th>\n",
       "      <td>FDP10</td>\n",
       "      <td>12.857645</td>\n",
       "      <td>0.127470</td>\n",
       "      <td>Snack Foods</td>\n",
       "      <td>107.7622</td>\n",
       "      <td>OUT027</td>\n",
       "      <td>2</td>\n",
       "      <td>3</td>\n",
       "      <td>3</td>\n",
       "      <td>4022.7636</td>\n",
       "      <td>38</td>\n",
       "      <td>1</td>\n",
       "    </tr>\n",
       "    <tr>\n",
       "      <th>8</th>\n",
       "      <td>FDH17</td>\n",
       "      <td>16.200000</td>\n",
       "      <td>0.016687</td>\n",
       "      <td>Frozen Foods</td>\n",
       "      <td>96.9726</td>\n",
       "      <td>OUT045</td>\n",
       "      <td>2</td>\n",
       "      <td>2</td>\n",
       "      <td>1</td>\n",
       "      <td>1076.5986</td>\n",
       "      <td>21</td>\n",
       "      <td>0</td>\n",
       "    </tr>\n",
       "    <tr>\n",
       "      <th>9</th>\n",
       "      <td>FDU28</td>\n",
       "      <td>19.200000</td>\n",
       "      <td>0.094450</td>\n",
       "      <td>Frozen Foods</td>\n",
       "      <td>187.8214</td>\n",
       "      <td>OUT017</td>\n",
       "      <td>2</td>\n",
       "      <td>2</td>\n",
       "      <td>1</td>\n",
       "      <td>4710.5350</td>\n",
       "      <td>16</td>\n",
       "      <td>0</td>\n",
       "    </tr>\n",
       "  </tbody>\n",
       "</table>\n",
       "</div>"
      ],
      "text/plain": [
       "  Item_Identifier  Item_Weight  Item_Visibility              Item_Type  \\\n",
       "0           FDA15     9.300000         0.016047                  Dairy   \n",
       "1           DRC01     5.920000         0.019278            Soft Drinks   \n",
       "2           FDN15    17.500000         0.016760                   Meat   \n",
       "3           FDX07    19.200000         0.000000  Fruits and Vegetables   \n",
       "4           NCD19     8.930000         0.000000              Household   \n",
       "5           FDP36    10.395000         0.000000           Baking Goods   \n",
       "6           FDO10    13.650000         0.012741            Snack Foods   \n",
       "7           FDP10    12.857645         0.127470            Snack Foods   \n",
       "8           FDH17    16.200000         0.016687           Frozen Foods   \n",
       "9           FDU28    19.200000         0.094450           Frozen Foods   \n",
       "\n",
       "   Item_MRP Outlet_Identifier  Outlet_Size  Outlet_Location_Type  Outlet_Type  \\\n",
       "0  249.8092            OUT049            2                     1            1   \n",
       "1   48.2692            OUT018            2                     3            2   \n",
       "2  141.6180            OUT049            2                     1            1   \n",
       "3  182.0950            OUT010            2                     3            0   \n",
       "4   53.8614            OUT013            3                     3            1   \n",
       "5   51.4008            OUT018            2                     3            2   \n",
       "6   57.6588            OUT013            3                     3            1   \n",
       "7  107.7622            OUT027            2                     3            3   \n",
       "8   96.9726            OUT045            2                     2            1   \n",
       "9  187.8214            OUT017            2                     2            1   \n",
       "\n",
       "   Item_Outlet_Sales  years_from_establishment  Low_Fat_Content  \n",
       "0          3735.1380                        24                1  \n",
       "1           443.4228                        14                0  \n",
       "2          2097.2700                        24                1  \n",
       "3           732.3800                        25                0  \n",
       "4           994.7052                        36                1  \n",
       "5           556.6088                        14                0  \n",
       "6           343.5528                        36                0  \n",
       "7          4022.7636                        38                1  \n",
       "8          1076.5986                        21                0  \n",
       "9          4710.5350                        16                0  "
      ]
     },
     "execution_count": 66,
     "metadata": {},
     "output_type": "execute_result"
    }
   ],
   "source": [
    "df.head(10)"
   ]
  },
  {
   "cell_type": "code",
   "execution_count": 67,
   "id": "1c0103f2",
   "metadata": {},
   "outputs": [],
   "source": [
    "df['Item_Identifier'] = df['Item_Identifier'].str.slice(0,2)"
   ]
  },
  {
   "cell_type": "code",
   "execution_count": 68,
   "id": "dab2f492",
   "metadata": {},
   "outputs": [
    {
     "data": {
      "text/html": [
       "<div>\n",
       "<style scoped>\n",
       "    .dataframe tbody tr th:only-of-type {\n",
       "        vertical-align: middle;\n",
       "    }\n",
       "\n",
       "    .dataframe tbody tr th {\n",
       "        vertical-align: top;\n",
       "    }\n",
       "\n",
       "    .dataframe thead th {\n",
       "        text-align: right;\n",
       "    }\n",
       "</style>\n",
       "<table border=\"1\" class=\"dataframe\">\n",
       "  <thead>\n",
       "    <tr style=\"text-align: right;\">\n",
       "      <th></th>\n",
       "      <th>Item_Identifier</th>\n",
       "      <th>Item_Weight</th>\n",
       "      <th>Item_Visibility</th>\n",
       "      <th>Item_Type</th>\n",
       "      <th>Item_MRP</th>\n",
       "      <th>Outlet_Identifier</th>\n",
       "      <th>Outlet_Size</th>\n",
       "      <th>Outlet_Location_Type</th>\n",
       "      <th>Outlet_Type</th>\n",
       "      <th>Item_Outlet_Sales</th>\n",
       "      <th>years_from_establishment</th>\n",
       "      <th>Low_Fat_Content</th>\n",
       "    </tr>\n",
       "  </thead>\n",
       "  <tbody>\n",
       "    <tr>\n",
       "      <th>0</th>\n",
       "      <td>FD</td>\n",
       "      <td>9.30</td>\n",
       "      <td>0.016047</td>\n",
       "      <td>Dairy</td>\n",
       "      <td>249.8092</td>\n",
       "      <td>OUT049</td>\n",
       "      <td>2</td>\n",
       "      <td>1</td>\n",
       "      <td>1</td>\n",
       "      <td>3735.1380</td>\n",
       "      <td>24</td>\n",
       "      <td>1</td>\n",
       "    </tr>\n",
       "    <tr>\n",
       "      <th>1</th>\n",
       "      <td>DR</td>\n",
       "      <td>5.92</td>\n",
       "      <td>0.019278</td>\n",
       "      <td>Soft Drinks</td>\n",
       "      <td>48.2692</td>\n",
       "      <td>OUT018</td>\n",
       "      <td>2</td>\n",
       "      <td>3</td>\n",
       "      <td>2</td>\n",
       "      <td>443.4228</td>\n",
       "      <td>14</td>\n",
       "      <td>0</td>\n",
       "    </tr>\n",
       "    <tr>\n",
       "      <th>2</th>\n",
       "      <td>FD</td>\n",
       "      <td>17.50</td>\n",
       "      <td>0.016760</td>\n",
       "      <td>Meat</td>\n",
       "      <td>141.6180</td>\n",
       "      <td>OUT049</td>\n",
       "      <td>2</td>\n",
       "      <td>1</td>\n",
       "      <td>1</td>\n",
       "      <td>2097.2700</td>\n",
       "      <td>24</td>\n",
       "      <td>1</td>\n",
       "    </tr>\n",
       "    <tr>\n",
       "      <th>3</th>\n",
       "      <td>FD</td>\n",
       "      <td>19.20</td>\n",
       "      <td>0.000000</td>\n",
       "      <td>Fruits and Vegetables</td>\n",
       "      <td>182.0950</td>\n",
       "      <td>OUT010</td>\n",
       "      <td>2</td>\n",
       "      <td>3</td>\n",
       "      <td>0</td>\n",
       "      <td>732.3800</td>\n",
       "      <td>25</td>\n",
       "      <td>0</td>\n",
       "    </tr>\n",
       "    <tr>\n",
       "      <th>4</th>\n",
       "      <td>NC</td>\n",
       "      <td>8.93</td>\n",
       "      <td>0.000000</td>\n",
       "      <td>Household</td>\n",
       "      <td>53.8614</td>\n",
       "      <td>OUT013</td>\n",
       "      <td>3</td>\n",
       "      <td>3</td>\n",
       "      <td>1</td>\n",
       "      <td>994.7052</td>\n",
       "      <td>36</td>\n",
       "      <td>1</td>\n",
       "    </tr>\n",
       "  </tbody>\n",
       "</table>\n",
       "</div>"
      ],
      "text/plain": [
       "  Item_Identifier  Item_Weight  Item_Visibility              Item_Type  \\\n",
       "0              FD         9.30         0.016047                  Dairy   \n",
       "1              DR         5.92         0.019278            Soft Drinks   \n",
       "2              FD        17.50         0.016760                   Meat   \n",
       "3              FD        19.20         0.000000  Fruits and Vegetables   \n",
       "4              NC         8.93         0.000000              Household   \n",
       "\n",
       "   Item_MRP Outlet_Identifier  Outlet_Size  Outlet_Location_Type  Outlet_Type  \\\n",
       "0  249.8092            OUT049            2                     1            1   \n",
       "1   48.2692            OUT018            2                     3            2   \n",
       "2  141.6180            OUT049            2                     1            1   \n",
       "3  182.0950            OUT010            2                     3            0   \n",
       "4   53.8614            OUT013            3                     3            1   \n",
       "\n",
       "   Item_Outlet_Sales  years_from_establishment  Low_Fat_Content  \n",
       "0          3735.1380                        24                1  \n",
       "1           443.4228                        14                0  \n",
       "2          2097.2700                        24                1  \n",
       "3           732.3800                        25                0  \n",
       "4           994.7052                        36                1  "
      ]
     },
     "execution_count": 68,
     "metadata": {},
     "output_type": "execute_result"
    }
   ],
   "source": [
    "df.head()"
   ]
  },
  {
   "cell_type": "markdown",
   "id": "19b1aa2d",
   "metadata": {},
   "source": [
    "We can create dummies for the Categorical columns now"
   ]
  },
  {
   "cell_type": "code",
   "execution_count": 69,
   "id": "4e20799d",
   "metadata": {},
   "outputs": [],
   "source": [
    "df1 = pd.get_dummies(df, columns=['Item_Identifier','Item_Type', 'Outlet_Identifier', 'Outlet_Size','Outlet_Location_Type','Outlet_Type','Low_Fat_Content'])"
   ]
  },
  {
   "cell_type": "code",
   "execution_count": 70,
   "id": "48d77aee",
   "metadata": {},
   "outputs": [
    {
     "name": "stdout",
     "output_type": "stream",
     "text": [
      "<class 'pandas.core.frame.DataFrame'>\n",
      "Index: 8193 entries, 0 to 8522\n",
      "Data columns (total 46 columns):\n",
      " #   Column                           Non-Null Count  Dtype  \n",
      "---  ------                           --------------  -----  \n",
      " 0   Item_Weight                      8193 non-null   float64\n",
      " 1   Item_Visibility                  8193 non-null   float64\n",
      " 2   Item_MRP                         8193 non-null   float64\n",
      " 3   Item_Outlet_Sales                8193 non-null   float64\n",
      " 4   years_from_establishment         8193 non-null   int64  \n",
      " 5   Item_Identifier_DR               8193 non-null   bool   \n",
      " 6   Item_Identifier_FD               8193 non-null   bool   \n",
      " 7   Item_Identifier_NC               8193 non-null   bool   \n",
      " 8   Item_Type_Baking Goods           8193 non-null   bool   \n",
      " 9   Item_Type_Breads                 8193 non-null   bool   \n",
      " 10  Item_Type_Breakfast              8193 non-null   bool   \n",
      " 11  Item_Type_Canned                 8193 non-null   bool   \n",
      " 12  Item_Type_Dairy                  8193 non-null   bool   \n",
      " 13  Item_Type_Frozen Foods           8193 non-null   bool   \n",
      " 14  Item_Type_Fruits and Vegetables  8193 non-null   bool   \n",
      " 15  Item_Type_Hard Drinks            8193 non-null   bool   \n",
      " 16  Item_Type_Health and Hygiene     8193 non-null   bool   \n",
      " 17  Item_Type_Household              8193 non-null   bool   \n",
      " 18  Item_Type_Meat                   8193 non-null   bool   \n",
      " 19  Item_Type_Others                 8193 non-null   bool   \n",
      " 20  Item_Type_Seafood                8193 non-null   bool   \n",
      " 21  Item_Type_Snack Foods            8193 non-null   bool   \n",
      " 22  Item_Type_Soft Drinks            8193 non-null   bool   \n",
      " 23  Item_Type_Starchy Foods          8193 non-null   bool   \n",
      " 24  Outlet_Identifier_OUT010         8193 non-null   bool   \n",
      " 25  Outlet_Identifier_OUT013         8193 non-null   bool   \n",
      " 26  Outlet_Identifier_OUT017         8193 non-null   bool   \n",
      " 27  Outlet_Identifier_OUT018         8193 non-null   bool   \n",
      " 28  Outlet_Identifier_OUT019         8193 non-null   bool   \n",
      " 29  Outlet_Identifier_OUT027         8193 non-null   bool   \n",
      " 30  Outlet_Identifier_OUT035         8193 non-null   bool   \n",
      " 31  Outlet_Identifier_OUT045         8193 non-null   bool   \n",
      " 32  Outlet_Identifier_OUT046         8193 non-null   bool   \n",
      " 33  Outlet_Identifier_OUT049         8193 non-null   bool   \n",
      " 34  Outlet_Size_1                    8193 non-null   bool   \n",
      " 35  Outlet_Size_2                    8193 non-null   bool   \n",
      " 36  Outlet_Size_3                    8193 non-null   bool   \n",
      " 37  Outlet_Location_Type_1           8193 non-null   bool   \n",
      " 38  Outlet_Location_Type_2           8193 non-null   bool   \n",
      " 39  Outlet_Location_Type_3           8193 non-null   bool   \n",
      " 40  Outlet_Type_0                    8193 non-null   bool   \n",
      " 41  Outlet_Type_1                    8193 non-null   bool   \n",
      " 42  Outlet_Type_2                    8193 non-null   bool   \n",
      " 43  Outlet_Type_3                    8193 non-null   bool   \n",
      " 44  Low_Fat_Content_0                8193 non-null   bool   \n",
      " 45  Low_Fat_Content_1                8193 non-null   bool   \n",
      "dtypes: bool(41), float64(4), int64(1)\n",
      "memory usage: 712.1 KB\n"
     ]
    }
   ],
   "source": [
    "df1.info()"
   ]
  },
  {
   "cell_type": "code",
   "execution_count": 71,
   "id": "64443e65",
   "metadata": {},
   "outputs": [
    {
     "data": {
      "text/html": [
       "<div>\n",
       "<style scoped>\n",
       "    .dataframe tbody tr th:only-of-type {\n",
       "        vertical-align: middle;\n",
       "    }\n",
       "\n",
       "    .dataframe tbody tr th {\n",
       "        vertical-align: top;\n",
       "    }\n",
       "\n",
       "    .dataframe thead th {\n",
       "        text-align: right;\n",
       "    }\n",
       "</style>\n",
       "<table border=\"1\" class=\"dataframe\">\n",
       "  <thead>\n",
       "    <tr style=\"text-align: right;\">\n",
       "      <th></th>\n",
       "      <th>Item_Weight</th>\n",
       "      <th>Item_Visibility</th>\n",
       "      <th>Item_MRP</th>\n",
       "      <th>Item_Outlet_Sales</th>\n",
       "      <th>years_from_establishment</th>\n",
       "      <th>Item_Identifier_DR</th>\n",
       "      <th>Item_Identifier_FD</th>\n",
       "      <th>Item_Identifier_NC</th>\n",
       "      <th>Item_Type_Baking Goods</th>\n",
       "      <th>Item_Type_Breads</th>\n",
       "      <th>...</th>\n",
       "      <th>Outlet_Size_3</th>\n",
       "      <th>Outlet_Location_Type_1</th>\n",
       "      <th>Outlet_Location_Type_2</th>\n",
       "      <th>Outlet_Location_Type_3</th>\n",
       "      <th>Outlet_Type_0</th>\n",
       "      <th>Outlet_Type_1</th>\n",
       "      <th>Outlet_Type_2</th>\n",
       "      <th>Outlet_Type_3</th>\n",
       "      <th>Low_Fat_Content_0</th>\n",
       "      <th>Low_Fat_Content_1</th>\n",
       "    </tr>\n",
       "  </thead>\n",
       "  <tbody>\n",
       "    <tr>\n",
       "      <th>0</th>\n",
       "      <td>9.300000</td>\n",
       "      <td>0.016047</td>\n",
       "      <td>249.8092</td>\n",
       "      <td>3735.1380</td>\n",
       "      <td>24</td>\n",
       "      <td>False</td>\n",
       "      <td>True</td>\n",
       "      <td>False</td>\n",
       "      <td>False</td>\n",
       "      <td>False</td>\n",
       "      <td>...</td>\n",
       "      <td>False</td>\n",
       "      <td>True</td>\n",
       "      <td>False</td>\n",
       "      <td>False</td>\n",
       "      <td>False</td>\n",
       "      <td>True</td>\n",
       "      <td>False</td>\n",
       "      <td>False</td>\n",
       "      <td>False</td>\n",
       "      <td>True</td>\n",
       "    </tr>\n",
       "    <tr>\n",
       "      <th>1</th>\n",
       "      <td>5.920000</td>\n",
       "      <td>0.019278</td>\n",
       "      <td>48.2692</td>\n",
       "      <td>443.4228</td>\n",
       "      <td>14</td>\n",
       "      <td>True</td>\n",
       "      <td>False</td>\n",
       "      <td>False</td>\n",
       "      <td>False</td>\n",
       "      <td>False</td>\n",
       "      <td>...</td>\n",
       "      <td>False</td>\n",
       "      <td>False</td>\n",
       "      <td>False</td>\n",
       "      <td>True</td>\n",
       "      <td>False</td>\n",
       "      <td>False</td>\n",
       "      <td>True</td>\n",
       "      <td>False</td>\n",
       "      <td>True</td>\n",
       "      <td>False</td>\n",
       "    </tr>\n",
       "    <tr>\n",
       "      <th>2</th>\n",
       "      <td>17.500000</td>\n",
       "      <td>0.016760</td>\n",
       "      <td>141.6180</td>\n",
       "      <td>2097.2700</td>\n",
       "      <td>24</td>\n",
       "      <td>False</td>\n",
       "      <td>True</td>\n",
       "      <td>False</td>\n",
       "      <td>False</td>\n",
       "      <td>False</td>\n",
       "      <td>...</td>\n",
       "      <td>False</td>\n",
       "      <td>True</td>\n",
       "      <td>False</td>\n",
       "      <td>False</td>\n",
       "      <td>False</td>\n",
       "      <td>True</td>\n",
       "      <td>False</td>\n",
       "      <td>False</td>\n",
       "      <td>False</td>\n",
       "      <td>True</td>\n",
       "    </tr>\n",
       "    <tr>\n",
       "      <th>3</th>\n",
       "      <td>19.200000</td>\n",
       "      <td>0.000000</td>\n",
       "      <td>182.0950</td>\n",
       "      <td>732.3800</td>\n",
       "      <td>25</td>\n",
       "      <td>False</td>\n",
       "      <td>True</td>\n",
       "      <td>False</td>\n",
       "      <td>False</td>\n",
       "      <td>False</td>\n",
       "      <td>...</td>\n",
       "      <td>False</td>\n",
       "      <td>False</td>\n",
       "      <td>False</td>\n",
       "      <td>True</td>\n",
       "      <td>True</td>\n",
       "      <td>False</td>\n",
       "      <td>False</td>\n",
       "      <td>False</td>\n",
       "      <td>True</td>\n",
       "      <td>False</td>\n",
       "    </tr>\n",
       "    <tr>\n",
       "      <th>4</th>\n",
       "      <td>8.930000</td>\n",
       "      <td>0.000000</td>\n",
       "      <td>53.8614</td>\n",
       "      <td>994.7052</td>\n",
       "      <td>36</td>\n",
       "      <td>False</td>\n",
       "      <td>False</td>\n",
       "      <td>True</td>\n",
       "      <td>False</td>\n",
       "      <td>False</td>\n",
       "      <td>...</td>\n",
       "      <td>True</td>\n",
       "      <td>False</td>\n",
       "      <td>False</td>\n",
       "      <td>True</td>\n",
       "      <td>False</td>\n",
       "      <td>True</td>\n",
       "      <td>False</td>\n",
       "      <td>False</td>\n",
       "      <td>False</td>\n",
       "      <td>True</td>\n",
       "    </tr>\n",
       "    <tr>\n",
       "      <th>5</th>\n",
       "      <td>10.395000</td>\n",
       "      <td>0.000000</td>\n",
       "      <td>51.4008</td>\n",
       "      <td>556.6088</td>\n",
       "      <td>14</td>\n",
       "      <td>False</td>\n",
       "      <td>True</td>\n",
       "      <td>False</td>\n",
       "      <td>True</td>\n",
       "      <td>False</td>\n",
       "      <td>...</td>\n",
       "      <td>False</td>\n",
       "      <td>False</td>\n",
       "      <td>False</td>\n",
       "      <td>True</td>\n",
       "      <td>False</td>\n",
       "      <td>False</td>\n",
       "      <td>True</td>\n",
       "      <td>False</td>\n",
       "      <td>True</td>\n",
       "      <td>False</td>\n",
       "    </tr>\n",
       "    <tr>\n",
       "      <th>6</th>\n",
       "      <td>13.650000</td>\n",
       "      <td>0.012741</td>\n",
       "      <td>57.6588</td>\n",
       "      <td>343.5528</td>\n",
       "      <td>36</td>\n",
       "      <td>False</td>\n",
       "      <td>True</td>\n",
       "      <td>False</td>\n",
       "      <td>False</td>\n",
       "      <td>False</td>\n",
       "      <td>...</td>\n",
       "      <td>True</td>\n",
       "      <td>False</td>\n",
       "      <td>False</td>\n",
       "      <td>True</td>\n",
       "      <td>False</td>\n",
       "      <td>True</td>\n",
       "      <td>False</td>\n",
       "      <td>False</td>\n",
       "      <td>True</td>\n",
       "      <td>False</td>\n",
       "    </tr>\n",
       "    <tr>\n",
       "      <th>7</th>\n",
       "      <td>12.857645</td>\n",
       "      <td>0.127470</td>\n",
       "      <td>107.7622</td>\n",
       "      <td>4022.7636</td>\n",
       "      <td>38</td>\n",
       "      <td>False</td>\n",
       "      <td>True</td>\n",
       "      <td>False</td>\n",
       "      <td>False</td>\n",
       "      <td>False</td>\n",
       "      <td>...</td>\n",
       "      <td>False</td>\n",
       "      <td>False</td>\n",
       "      <td>False</td>\n",
       "      <td>True</td>\n",
       "      <td>False</td>\n",
       "      <td>False</td>\n",
       "      <td>False</td>\n",
       "      <td>True</td>\n",
       "      <td>False</td>\n",
       "      <td>True</td>\n",
       "    </tr>\n",
       "    <tr>\n",
       "      <th>8</th>\n",
       "      <td>16.200000</td>\n",
       "      <td>0.016687</td>\n",
       "      <td>96.9726</td>\n",
       "      <td>1076.5986</td>\n",
       "      <td>21</td>\n",
       "      <td>False</td>\n",
       "      <td>True</td>\n",
       "      <td>False</td>\n",
       "      <td>False</td>\n",
       "      <td>False</td>\n",
       "      <td>...</td>\n",
       "      <td>False</td>\n",
       "      <td>False</td>\n",
       "      <td>True</td>\n",
       "      <td>False</td>\n",
       "      <td>False</td>\n",
       "      <td>True</td>\n",
       "      <td>False</td>\n",
       "      <td>False</td>\n",
       "      <td>True</td>\n",
       "      <td>False</td>\n",
       "    </tr>\n",
       "    <tr>\n",
       "      <th>9</th>\n",
       "      <td>19.200000</td>\n",
       "      <td>0.094450</td>\n",
       "      <td>187.8214</td>\n",
       "      <td>4710.5350</td>\n",
       "      <td>16</td>\n",
       "      <td>False</td>\n",
       "      <td>True</td>\n",
       "      <td>False</td>\n",
       "      <td>False</td>\n",
       "      <td>False</td>\n",
       "      <td>...</td>\n",
       "      <td>False</td>\n",
       "      <td>False</td>\n",
       "      <td>True</td>\n",
       "      <td>False</td>\n",
       "      <td>False</td>\n",
       "      <td>True</td>\n",
       "      <td>False</td>\n",
       "      <td>False</td>\n",
       "      <td>True</td>\n",
       "      <td>False</td>\n",
       "    </tr>\n",
       "  </tbody>\n",
       "</table>\n",
       "<p>10 rows × 46 columns</p>\n",
       "</div>"
      ],
      "text/plain": [
       "   Item_Weight  Item_Visibility  Item_MRP  Item_Outlet_Sales  \\\n",
       "0     9.300000         0.016047  249.8092          3735.1380   \n",
       "1     5.920000         0.019278   48.2692           443.4228   \n",
       "2    17.500000         0.016760  141.6180          2097.2700   \n",
       "3    19.200000         0.000000  182.0950           732.3800   \n",
       "4     8.930000         0.000000   53.8614           994.7052   \n",
       "5    10.395000         0.000000   51.4008           556.6088   \n",
       "6    13.650000         0.012741   57.6588           343.5528   \n",
       "7    12.857645         0.127470  107.7622          4022.7636   \n",
       "8    16.200000         0.016687   96.9726          1076.5986   \n",
       "9    19.200000         0.094450  187.8214          4710.5350   \n",
       "\n",
       "   years_from_establishment  Item_Identifier_DR  Item_Identifier_FD  \\\n",
       "0                        24               False                True   \n",
       "1                        14                True               False   \n",
       "2                        24               False                True   \n",
       "3                        25               False                True   \n",
       "4                        36               False               False   \n",
       "5                        14               False                True   \n",
       "6                        36               False                True   \n",
       "7                        38               False                True   \n",
       "8                        21               False                True   \n",
       "9                        16               False                True   \n",
       "\n",
       "   Item_Identifier_NC  Item_Type_Baking Goods  Item_Type_Breads  ...  \\\n",
       "0               False                   False             False  ...   \n",
       "1               False                   False             False  ...   \n",
       "2               False                   False             False  ...   \n",
       "3               False                   False             False  ...   \n",
       "4                True                   False             False  ...   \n",
       "5               False                    True             False  ...   \n",
       "6               False                   False             False  ...   \n",
       "7               False                   False             False  ...   \n",
       "8               False                   False             False  ...   \n",
       "9               False                   False             False  ...   \n",
       "\n",
       "   Outlet_Size_3  Outlet_Location_Type_1  Outlet_Location_Type_2  \\\n",
       "0          False                    True                   False   \n",
       "1          False                   False                   False   \n",
       "2          False                    True                   False   \n",
       "3          False                   False                   False   \n",
       "4           True                   False                   False   \n",
       "5          False                   False                   False   \n",
       "6           True                   False                   False   \n",
       "7          False                   False                   False   \n",
       "8          False                   False                    True   \n",
       "9          False                   False                    True   \n",
       "\n",
       "   Outlet_Location_Type_3  Outlet_Type_0  Outlet_Type_1  Outlet_Type_2  \\\n",
       "0                   False          False           True          False   \n",
       "1                    True          False          False           True   \n",
       "2                   False          False           True          False   \n",
       "3                    True           True          False          False   \n",
       "4                    True          False           True          False   \n",
       "5                    True          False          False           True   \n",
       "6                    True          False           True          False   \n",
       "7                    True          False          False          False   \n",
       "8                   False          False           True          False   \n",
       "9                   False          False           True          False   \n",
       "\n",
       "   Outlet_Type_3  Low_Fat_Content_0  Low_Fat_Content_1  \n",
       "0          False              False               True  \n",
       "1          False               True              False  \n",
       "2          False              False               True  \n",
       "3          False               True              False  \n",
       "4          False              False               True  \n",
       "5          False               True              False  \n",
       "6          False               True              False  \n",
       "7           True              False               True  \n",
       "8          False               True              False  \n",
       "9          False               True              False  \n",
       "\n",
       "[10 rows x 46 columns]"
      ]
     },
     "execution_count": 71,
     "metadata": {},
     "output_type": "execute_result"
    }
   ],
   "source": [
    "df1.head(10)"
   ]
  },
  {
   "cell_type": "markdown",
   "id": "51b325ea",
   "metadata": {},
   "source": [
    "### Model Building"
   ]
  },
  {
   "cell_type": "code",
   "execution_count": 72,
   "id": "293e1661",
   "metadata": {},
   "outputs": [],
   "source": [
    "## Import library\n",
    "\n",
    "from sklearn.model_selection import train_test_split\n",
    "from sklearn.metrics import r2_score"
   ]
  },
  {
   "cell_type": "code",
   "execution_count": 73,
   "id": "7ebc92f3",
   "metadata": {},
   "outputs": [],
   "source": [
    "X = df1.drop('Item_Outlet_Sales', axis=1)\n",
    "y = df1['Item_Outlet_Sales']"
   ]
  },
  {
   "cell_type": "code",
   "execution_count": 74,
   "id": "3d735bea",
   "metadata": {},
   "outputs": [],
   "source": [
    "X_train,X_test,y_train,y_test = train_test_split(X,y)"
   ]
  },
  {
   "cell_type": "code",
   "execution_count": 75,
   "id": "65b43ee3",
   "metadata": {},
   "outputs": [],
   "source": [
    "from sklearn.linear_model import LinearRegression"
   ]
  },
  {
   "cell_type": "code",
   "execution_count": 76,
   "id": "33506459",
   "metadata": {},
   "outputs": [],
   "source": [
    "def scores(model):\n",
    "    train_pred = model.predict(X_train)\n",
    "    print(f'Score on Training dataset = {r2_score(y_train,train_pred)}')\n",
    "    test_pred = model.predict(X_test)\n",
    "    print(f'Score on Test dataset = {r2_score(y_test,test_pred)}')"
   ]
  },
  {
   "cell_type": "code",
   "execution_count": 77,
   "id": "1de2d572",
   "metadata": {},
   "outputs": [
    {
     "name": "stdout",
     "output_type": "stream",
     "text": [
      "Score on Training dataset = 0.5537247596391515\n",
      "Score on Test dataset = 0.5417339467230802\n"
     ]
    }
   ],
   "source": [
    "LR = LinearRegression()\n",
    "\n",
    "LR.fit(X_train, y_train)\n",
    "scores(LR)"
   ]
  },
  {
   "cell_type": "markdown",
   "id": "158f0542",
   "metadata": {},
   "source": [
    "### Applying regularization Techniques"
   ]
  },
  {
   "cell_type": "markdown",
   "id": "5e19d162",
   "metadata": {},
   "source": [
    "The key difference is in how they assign penalties to the coefficients:\n",
    "\n",
    "Ridge Regression:\n",
    "\n",
    "1. Performs L2 regularization, i.e., adds penalty equivalent to the square of the magnitude of coefficients\n",
    "2. Minimization objective = LS Obj + α * (sum of square of coefficients)\n",
    "\n",
    "Lasso Regression:\n",
    "\n",
    "1. Performs L1 regularization, i.e., adds penalty equivalent to the absolute value of the magnitude of coefficients\n",
    "2. Minimization objective = LS Obj + α * (sum of the absolute value of coefficients)\n",
    "\n",
    "Here, LS Obj refers to the ‘least squares objective,’ i.e., the linear regression objective without regularization."
   ]
  },
  {
   "cell_type": "code",
   "execution_count": 78,
   "id": "858739a6",
   "metadata": {},
   "outputs": [
    {
     "name": "stdout",
     "output_type": "stream",
     "text": [
      "Score on Training dataset = 0.5537244240059847\n",
      "Score on Test dataset = 0.5417516036318427\n"
     ]
    }
   ],
   "source": [
    "from sklearn.linear_model import Ridge\n",
    "\n",
    "ridge = Ridge()\n",
    "ridge.fit(X_train,y_train)\n",
    "scores(ridge)\n"
   ]
  },
  {
   "cell_type": "code",
   "execution_count": 79,
   "id": "2f03f142",
   "metadata": {},
   "outputs": [
    {
     "name": "stdout",
     "output_type": "stream",
     "text": [
      "Score on Training dataset = 0.5534854680564075\n",
      "Score on Test dataset = 0.5425303034502189\n"
     ]
    }
   ],
   "source": [
    "from sklearn.linear_model import Lasso\n",
    "\n",
    "lasso = Lasso()\n",
    "lasso.fit(X_train,y_train)\n",
    "scores(lasso)"
   ]
  },
  {
   "cell_type": "code",
   "execution_count": 80,
   "id": "62a65906",
   "metadata": {},
   "outputs": [
    {
     "name": "stdout",
     "output_type": "stream",
     "text": [
      "Score on Training dataset = 0.9344781388324023\n",
      "Score on Test dataset = 0.5240693906118341\n"
     ]
    }
   ],
   "source": [
    "from sklearn.ensemble import RandomForestRegressor\n",
    "\n",
    "rfg = RandomForestRegressor()\n",
    "rfg.fit(X_train,y_train)\n",
    "scores(rfg)"
   ]
  },
  {
   "cell_type": "markdown",
   "id": "0a375b4b",
   "metadata": {},
   "source": [
    "- The Difference between the training score and the test score is huge, which indicatest that it is overfitting the data.\n",
    "- We can get the better scores for all these algorithms, by find the right suitable paramters through Hyperparameter Tuning."
   ]
  },
  {
   "cell_type": "markdown",
   "id": "99258e0e",
   "metadata": {},
   "source": [
    "### Hyperparameter Tuning the Models"
   ]
  },
  {
   "cell_type": "markdown",
   "id": "94eb5c0b",
   "metadata": {},
   "source": [
    "#### Hyperparameter Tuning using Ridge"
   ]
  },
  {
   "cell_type": "code",
   "execution_count": 81,
   "id": "8b7f3003",
   "metadata": {},
   "outputs": [
    {
     "name": "stdout",
     "output_type": "stream",
     "text": [
      "Best parameters:  {'alpha': 10, 'fit_intercept': True}\n",
      "Best score:  0.5491267732952435\n"
     ]
    }
   ],
   "source": [
    "from sklearn.model_selection import GridSearchCV, RandomizedSearchCV\n",
    "\n",
    "# Initialize the Ridge model\n",
    "ridge = Ridge()\n",
    "\n",
    "# Define the hyperparameters to tune\n",
    "param_grid = {\n",
    "    'alpha': [0.1, 1,3,5,7,9,10],\n",
    "    'fit_intercept': [True]\n",
    "}\n",
    "\n",
    "# Perform Grid Search Cross-Validation\n",
    "grid_search = GridSearchCV(ridge, param_grid, cv=5)\n",
    "grid_search.fit(X_train, y_train)\n",
    "\n",
    "# Print the best parameters and the corresponding score\n",
    "print(\"Best parameters: \", grid_search.best_params_)\n",
    "print(\"Best score: \", grid_search.best_score_)"
   ]
  },
  {
   "cell_type": "code",
   "execution_count": 82,
   "id": "86e94947",
   "metadata": {},
   "outputs": [
    {
     "name": "stdout",
     "output_type": "stream",
     "text": [
      "Score on Training dataset = 0.5536966296472943\n",
      "Score on Test dataset = 0.5418813496575439\n"
     ]
    }
   ],
   "source": [
    "ridge_best = Ridge(alpha=10)\n",
    "ridge_best.fit(X_train,y_train)\n",
    "scores(ridge_best)"
   ]
  },
  {
   "cell_type": "markdown",
   "id": "d016d79e",
   "metadata": {},
   "source": [
    "#### Hyperparameter Tuning using Lasso"
   ]
  },
  {
   "cell_type": "code",
   "execution_count": 83,
   "id": "05ea378f",
   "metadata": {},
   "outputs": [
    {
     "name": "stdout",
     "output_type": "stream",
     "text": [
      "Fitting 5 folds for each of 24 candidates, totalling 120 fits\n",
      "Best parameters: {'alpha': 1.0, 'fit_intercept': False, 'max_iter': 1000}\n"
     ]
    }
   ],
   "source": [
    "# Create a Lasso regressor\n",
    "lasso = Lasso()\n",
    "\n",
    "# Define the hyperparameter grid\n",
    "param_grid = {\n",
    "    'alpha': [0.1, 1.0, 10.0, 100.0],\n",
    "    'fit_intercept': [True, False],\n",
    "    'max_iter': [1000, 2000, 3000]\n",
    "}\n",
    "\n",
    "# Perform Grid Search with cross-validation\n",
    "grid_search = GridSearchCV(estimator=lasso, param_grid=param_grid, cv=5, verbose=2, n_jobs=-1)\n",
    "\n",
    "# Fit the model\n",
    "grid_search.fit(X_train, y_train)\n",
    "\n",
    "# Get the best parameters\n",
    "best_params = grid_search.best_params_\n",
    "print(\"Best parameters:\", best_params)"
   ]
  },
  {
   "cell_type": "code",
   "execution_count": 84,
   "id": "644d6e23",
   "metadata": {},
   "outputs": [
    {
     "name": "stdout",
     "output_type": "stream",
     "text": [
      "Score on Training dataset = 0.5534855244138297\n",
      "Score on Test dataset = 0.5425311660271706\n"
     ]
    }
   ],
   "source": [
    "# Use the best parameters to create a new Lasso model\n",
    "best_lasso = Lasso(**best_params)\n",
    "best_lasso.fit(X_train,y_train)\n",
    "scores(best_lasso)"
   ]
  },
  {
   "cell_type": "markdown",
   "id": "72137477",
   "metadata": {},
   "source": [
    "#### Using Random Forest"
   ]
  },
  {
   "cell_type": "code",
   "execution_count": 85,
   "id": "51360a81",
   "metadata": {},
   "outputs": [
    {
     "name": "stderr",
     "output_type": "stream",
     "text": [
      "C:\\Users\\Kumar.Singh\\AppData\\Local\\anaconda3\\Lib\\site-packages\\sklearn\\model_selection\\_search.py:307: UserWarning: The total space of parameters 18 is smaller than n_iter=100. Running 18 iterations. For exhaustive searches, use GridSearchCV.\n",
      "  warnings.warn(\n"
     ]
    },
    {
     "name": "stdout",
     "output_type": "stream",
     "text": [
      "Fitting 5 folds for each of 18 candidates, totalling 90 fits\n",
      "Score on Training dataset = 0.5923808786021691\n",
      "Score on Test dataset = 0.5742101512236888\n"
     ]
    }
   ],
   "source": [
    "# Create a RandomForestRegressor\n",
    "rf = RandomForestRegressor()\n",
    "\n",
    "# Define the hyperparameter grid with fewer parameters\n",
    "param_grid = {\n",
    "    'n_estimators': [100, 300, 500],\n",
    "    'max_depth': [5, 10],\n",
    "    'min_samples_split': [2, 5, 10],\n",
    "}\n",
    "\n",
    "# Perform Randomized Search with cross-validation\n",
    "random_search = RandomizedSearchCV(estimator=rf, param_distributions=param_grid, n_iter=100, cv=5, verbose=2, random_state=42, n_jobs=-1)\n",
    "\n",
    "# Fit the model\n",
    "random_search.fit(X_train, y_train)\n",
    "\n",
    "# Get the best parameters\n",
    "best_params = random_search.best_params_\n",
    "\n",
    "# Use the best parameters to create a new RandomForestRegressor model\n",
    "best_rf = RandomForestRegressor(**best_params)\n",
    "\n",
    "# Fit the model with the best parameters\n",
    "best_rf.fit(X_train, y_train)\n",
    "\n",
    "scores(best_rf)"
   ]
  },
  {
   "cell_type": "code",
   "execution_count": 86,
   "id": "82865ca2",
   "metadata": {},
   "outputs": [
    {
     "data": {
      "text/plain": [
       "{'n_estimators': 300, 'min_samples_split': 5, 'max_depth': 5}"
      ]
     },
     "execution_count": 86,
     "metadata": {},
     "output_type": "execute_result"
    }
   ],
   "source": [
    "best_params"
   ]
  },
  {
   "cell_type": "markdown",
   "id": "0f75145a",
   "metadata": {},
   "source": [
    "Saving random Forest as the best Model"
   ]
  },
  {
   "cell_type": "code",
   "execution_count": 87,
   "id": "d81267a9",
   "metadata": {},
   "outputs": [
    {
     "data": {
      "text/plain": [
       "['random_forest_regressor.pkl']"
      ]
     },
     "execution_count": 87,
     "metadata": {},
     "output_type": "execute_result"
    }
   ],
   "source": [
    "import joblib\n",
    "\n",
    "# Save the trained model\n",
    "joblib.dump(best_rf, 'random_forest_regressor.pkl')"
   ]
  },
  {
   "cell_type": "markdown",
   "id": "13a8d17f",
   "metadata": {},
   "source": [
    "#### Conclusion"
   ]
  },
  {
   "cell_type": "markdown",
   "id": "a622d18a",
   "metadata": {},
   "source": [
    "-  Even after trying so many model the results are quite low & can be improved\n",
    "-  For improving scores we can add more data or more features can help to improve the scores"
   ]
  }
 ],
 "metadata": {
  "kernelspec": {
   "display_name": "Python 3 (ipykernel)",
   "language": "python",
   "name": "python3"
  },
  "language_info": {
   "codemirror_mode": {
    "name": "ipython",
    "version": 3
   },
   "file_extension": ".py",
   "mimetype": "text/x-python",
   "name": "python",
   "nbconvert_exporter": "python",
   "pygments_lexer": "ipython3",
   "version": "3.11.5"
  }
 },
 "nbformat": 4,
 "nbformat_minor": 5
}
